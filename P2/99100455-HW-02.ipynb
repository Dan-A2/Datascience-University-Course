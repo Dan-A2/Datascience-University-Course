{
 "cells": [
  {
   "attachments": {},
   "cell_type": "markdown",
   "metadata": {},
   "source": [
    "# Assignment 2. Statistical Methods in Data Science\n",
    "\n",
    "*Foundations of Data Science*  \n",
    "*Dr. Khalaj (Fall 2023)*  \n",
    "\n",
    "*For your questions refer to asoleix@gmail.com or @amirsoleix on Telegram*\n",
    "\n",
    "### Description  \n",
    "In this homework you will again work with real-world data. <a href=\"https://en.wikipedia.org/wiki/Upworthy\"> **Upworthy**</a> is a news website dedicated to creating viral and positive content. During the lectures, you have seen (or soon will see) how maximizing user engagement and click-rate is of great importance and a main objective for such businesses.  \n",
    "\n",
    "### Information  \n",
    "Complete the information box below."
   ]
  },
  {
   "cell_type": "code",
   "execution_count": 1,
   "metadata": {},
   "outputs": [],
   "source": [
    "full_name = 'Danial Ataie'\n",
    "student_id = '99100455'"
   ]
  },
  {
   "attachments": {},
   "cell_type": "markdown",
   "id": "41f19621",
   "metadata": {},
   "source": [
    "Using the data from <a href=\"https://doi.org/10.1038/s41597-021-00934-7\">this paper</a> (provided in `data` folder), you are supposed to:\n",
    "- Use more advanced practices in Numpy, Pandas, Matplotlib frequently used in data science projects\n",
    "- Perform simple statistical analysis on real-world data\n",
    "- Go one step further and generalize your findings\n",
    "- Suggest insightful directions for improving the website's performance  \n",
    "\n",
    "\n",
    "\n",
    "### Notes  \n",
    "In the sections marked with **Discuss**, no coding is required. Just present your whole logic and the steps you took thinking and coming up with the result. You can provide your explanation either in **English** or **Persian**. There is no obligation to use any specific language.\n",
    "\n",
    "### Understanding the Problem\n",
    "As stated above, Upworthy is, in essence, a content creation and news delivery business. The process of creating a news-related post starts from the raw material and then proceeds to processing the information and presenting it in a way that engages the users, i.e. having them interact with the website, as much as possible.  \n",
    "\n",
    "We have discussed main objectives and income sources of various businesses and how data science can affect that. You must know that the main source of revenue and consequently the most important goal of Upworthy, is to get the most views and clicks per piece of news.  \n",
    "\n",
    "A typical form of presentation for news websites is to first show the user a headline together with a thumbnail and sometimes an excerpt (or **lede** as defined later). But it is a well-known fact that not all the headlines attract users the same.  \n",
    "\n",
    "There are always several possible headlines that can be used for a piece of news. Nonetheless, just one can be used for presenting each content and we know that there is no scientific or formulaic approach to predict which one will actually be the most interesting for the users.  \n",
    "\n",
    "**Here is where you data scientists are brought into field!**  \n",
    "The problem is simply to find which headline should be chosen for any individual post to maximize the website's profit. What solutions come to your mind? Can you think of a novel formula to mathematically calculate an indicator of the headlines attractiveness? What about its engaging rate?\n",
    "\n",
    "\n",
    "### Discuss\n",
    "What possible solutions can you think of for this problem? Can you solve it mathematically? If so explain your solution, and if not, explain why do you think it's not feasible?"
   ]
  },
  {
   "attachments": {},
   "cell_type": "markdown",
   "metadata": {},
   "source": [
    "Defining the solution in mathematical terms is difficult, but I can certainly define it in ML language and it is solvable. We can use a pretrained language model to understand the whole article and its chosen topic and do some sort of analysis that which one will be the best fit for the article. So we are using an NLP model and fusing it with an ML model that will output scores(in terms of probability) about which heading is better."
   ]
  },
  {
   "attachments": {},
   "cell_type": "markdown",
   "id": "1a794a27",
   "metadata": {},
   "source": [
    "### Continuing with data science...\n",
    "\n",
    "As you have learnt during the past lectures, the first step to understand the problem, as carried out by the scientists hired by Upworthy, is to collect as much data as available. Then they have performed simple statistical analysis to understand wether one headline is significantly impacting the users' interaction with the website."
   ]
  },
  {
   "attachments": {},
   "cell_type": "markdown",
   "metadata": {},
   "source": [
    "Throughout this homework, we will analyze data from A/B tests of headlines conducted by Upworthy from January 2013 to April 2015 to study whether the language used in the headline determines the number of people that will read the associated news piece.  \n",
    "The homework contains four tasks:  \n",
    "1. Processing the data  \n",
    "2. Extracting meaningful signals from the data\n",
    "3. Testing whether the language of headlines impacts their success  \n",
    "4. Exploring the heterogeneity of this effects (e.g., does it vary through time?).\n"
   ]
  },
  {
   "attachments": {},
   "cell_type": "markdown",
   "metadata": {},
   "source": [
    "### **What is an A/B test?** \n",
    "A/B tests are experiments that compare two scenarios (e.g., scenario A vs. scenario B). \n",
    "They test subjects' responses to each of the variants to determine which is more effective ([read more about A/B tests on Wikipedia](https://en.wikipedia.org/wiki/A/B_testing)).  \n",
    "A/B tests allow us to draw conclusions about the different scenarios by randomizing exposure to them, e.g., one could flip a coin and assign a user to scenario A if it lands heads and to B if it lands tails.  \n",
    "Since exposure is randomized, we can be confident that the scenarios are the sole explanation for statistically significant differences in subjects' responses (if they exist).  \n",
    "In theory, A/B testing refers to an experiment that compares two scenarios; however, in practice, the term is also used when we compare multiple scenarios (e.g., A vs. B vs. C), although the more precise terminology would be to call such an experiment a \"multinomial test.\""
   ]
  },
  {
   "attachments": {},
   "cell_type": "markdown",
   "metadata": {},
   "source": [
    "### **How were A/B tests used by Upworthy?** \n",
    "Upworthy used A/B testing to increase news readership, conducting experiments for each published news piece.  \n",
    "In each experiment, they created multiple \"packages\" of stimuli, varying headlines, images, excerpts, and **ledes** for the same news piece.  \n",
    "Different \"packages\" were shown on their (now defunct) website to engage users with the news pieces they produced. Upworthy found \"the best\" package by conducting A/B tests, showing different packages to different users, and measuring how often users clicked on each version.  \n",
    "Below, we show three \"packages\" used by Upworthy in an experiment, each with a different headline for the same news piece.  \n",
    "Upworthy randomized users that visited their website saw one of the three versions of the headline below. Then, they measured the percentage of times users in each scenario clicked to read the news.  \n",
    "The headline with the highest percentage of clicks per view (click through rate) was then declared the \"winner\" and became the default for all visitors.\n",
    "\n",
    "![Example A/B test](example.png)"
   ]
  },
  {
   "attachments": {},
   "cell_type": "markdown",
   "metadata": {},
   "source": [
    "### **Terminology**\n",
    "\n",
    "- **News piece:** A news article. In the dataset considered, these were all produced by Upworthy.\n",
    "- **Package:** The set of visual stimuli inviting the user to read an article. The figure above shows a package with a headline and an image. At times, there was an excerpt of the article also shown in the package and/or the **lede**, i.e., [\"the introductory section of a news story that is intended to entice the reader to read the full story.\"](https://www.merriam-webster.com/words-at-play/bury-the-lede-versus-lead#:~:text=In%20journalism%2C%20the%20lede%20refers,machines%20began%20disappearing%20from%20newsrooms.)\n",
    "- **Experiment:** Each experiment is an A/B test (or multinomial test, to be more precise) comparing how users reacted to different \"packages.\" Experiments measured two things: \n",
    "  1. how many users were shown each package.\n",
    "  2. how many individuals clicked each package.\n"
   ]
  },
  {
   "attachments": {},
   "cell_type": "markdown",
   "id": "e2e6c2d9",
   "metadata": {},
   "source": [
    "### **Data description**\n",
    "\n",
    "| Column name          | Description                                                                                                                                    \n",
    "|----------------------|---------------------------------------------------------------------------------------------------------------------------------------------------------------------------------------------------|\n",
    "| created_at           | Time the package was created (timezone unknown)|\n",
    "| test_week            | Week the package was created, a variable constructed by the archive creators for stratified random sampling|\n",
    "| clickability_test_id | The test ID. Viewers were randomly assigned to packages with the same test ID|\n",
    "| impressions          | The number of viewers who were assigned to this package. The total number of participants for a given test is the sum of impressions for all packages that share the same clickability_test_id|\n",
    "| headline             | The headline being tested|\n",
    "| eyecatcher_id        | Image ID. Image files are not available. Packages that shared the same image have the same eyecatcher_id|\n",
    "| clicks               | The number of viewers (impressions) that clicked on the package. The clickrate for a given package is the number of clicks divided by the number of impressions|\n",
    "| excerpt              | Article excerpt|\n",
    "| lede                 | The opening sentence or paragraph of the story|\n",
    "| slug                 | Internal name for the web address|\n",
    "| share_text           | Summary for display on social media when the article is shared. This was not shown in tests, since tests were conducted on the Upworthy website|\n",
    "| square               | When used, part of the same social media sharing suggestion as the share text|\n",
    "| significance         | NOT an estimate of statistical significance; a complex, inconsistent calculation that compared the clicks on a package to the clicks on all previous packages that were fielded on the same pages|\n",
    "| first_place          | Along with significance, shown to editors to guide decisions about what test to choose|\n",
    "| winner               | Whether a package was selected by editors to be used on the Upworthy site after the test|\n",
    "| updated_at           | The last time the package was updated in the Upworthy system|\n"
   ]
  },
  {
   "cell_type": "code",
   "execution_count": 35,
   "id": "1f292d3f",
   "metadata": {},
   "outputs": [],
   "source": [
    "import numpy as np\n",
    "import pandas as pd\n",
    "import matplotlib.pyplot as plt\n",
    "import seaborn as sns\n",
    "from scipy import stats"
   ]
  },
  {
   "attachments": {},
   "cell_type": "markdown",
   "metadata": {},
   "source": [
    "## 1 Getting Familiar with the Data\n",
    "\n",
    "Your first task is to conduct initial analyses to understand the data and process it in a way that will allow us to more easily answer our key question: *how does the language of a headline determine its success?*\n",
    "\n",
    "1.1 Load the data into memory using pandas and print the first lines to get a sense of it."
   ]
  },
  {
   "cell_type": "code",
   "execution_count": 17,
   "metadata": {},
   "outputs": [
    {
     "data": {
      "text/html": [
       "<div>\n",
       "<style scoped>\n",
       "    .dataframe tbody tr th:only-of-type {\n",
       "        vertical-align: middle;\n",
       "    }\n",
       "\n",
       "    .dataframe tbody tr th {\n",
       "        vertical-align: top;\n",
       "    }\n",
       "\n",
       "    .dataframe thead th {\n",
       "        text-align: right;\n",
       "    }\n",
       "</style>\n",
       "<table border=\"1\" class=\"dataframe\">\n",
       "  <thead>\n",
       "    <tr style=\"text-align: right;\">\n",
       "      <th></th>\n",
       "      <th>created_at</th>\n",
       "      <th>updated_at</th>\n",
       "      <th>clickability_test_id</th>\n",
       "      <th>excerpt</th>\n",
       "      <th>headline</th>\n",
       "      <th>lede</th>\n",
       "      <th>slug</th>\n",
       "      <th>eyecatcher_id</th>\n",
       "      <th>impressions</th>\n",
       "      <th>clicks</th>\n",
       "      <th>significance</th>\n",
       "      <th>first_place</th>\n",
       "      <th>winner</th>\n",
       "      <th>share_text</th>\n",
       "      <th>square</th>\n",
       "      <th>test_week</th>\n",
       "    </tr>\n",
       "  </thead>\n",
       "  <tbody>\n",
       "    <tr>\n",
       "      <th>0</th>\n",
       "      <td>2014-11-20 06:43:16.005</td>\n",
       "      <td>2016-04-02 16:33:38.062</td>\n",
       "      <td>546d88fb84ad38b2ce000024</td>\n",
       "      <td>Things that matter. Pass 'em on.</td>\n",
       "      <td>They're Being Called 'Walmart's Worst Nightmar...</td>\n",
       "      <td>&lt;p&gt;When I saw *why* people are calling them \"W...</td>\n",
       "      <td>theyre-being-called-walmarts-worst-nightmare-a...</td>\n",
       "      <td>546d6fa19ad54eec8d00002d</td>\n",
       "      <td>3052</td>\n",
       "      <td>150</td>\n",
       "      <td>100.0</td>\n",
       "      <td>True</td>\n",
       "      <td>True</td>\n",
       "      <td>Anyone who's ever felt guilty about shopping a...</td>\n",
       "      <td>NaN</td>\n",
       "      <td>201446</td>\n",
       "    </tr>\n",
       "    <tr>\n",
       "      <th>1</th>\n",
       "      <td>2014-11-20 06:54:36.335</td>\n",
       "      <td>2016-04-02 16:25:54.027</td>\n",
       "      <td>546d902c26714c6c44000039</td>\n",
       "      <td>Things that matter. Pass 'em on.</td>\n",
       "      <td>This Is What Sexism Against Men Sounds Like</td>\n",
       "      <td>&lt;p&gt;DISCLOSURE: I'm a dude. I have cried on mul...</td>\n",
       "      <td>this-is-what-sexism-against-men-sounds-like-am...</td>\n",
       "      <td>546bc55335992b86c8000043</td>\n",
       "      <td>3526</td>\n",
       "      <td>90</td>\n",
       "      <td>4.1</td>\n",
       "      <td>False</td>\n",
       "      <td>False</td>\n",
       "      <td>If you ever wondered, \"but what about the men?...</td>\n",
       "      <td>NaN</td>\n",
       "      <td>201446</td>\n",
       "    </tr>\n",
       "    <tr>\n",
       "      <th>2</th>\n",
       "      <td>2014-11-20 06:54:57.878</td>\n",
       "      <td>2016-04-02 16:31:45.671</td>\n",
       "      <td>546d902c26714c6c44000039</td>\n",
       "      <td>Things that matter. Pass 'em on.</td>\n",
       "      <td>This Is What Sexism Against Men Sounds Like</td>\n",
       "      <td>&lt;p&gt;DISCLOSURE: I'm a dude. I have cried on mul...</td>\n",
       "      <td>this-is-what-sexism-against-men-sounds-like-am...</td>\n",
       "      <td>546d900426714cd2dd00002e</td>\n",
       "      <td>3506</td>\n",
       "      <td>120</td>\n",
       "      <td>100.0</td>\n",
       "      <td>True</td>\n",
       "      <td>False</td>\n",
       "      <td>If you ever wondered, \"but what about the men?...</td>\n",
       "      <td>NaN</td>\n",
       "      <td>201446</td>\n",
       "    </tr>\n",
       "    <tr>\n",
       "      <th>3</th>\n",
       "      <td>2014-11-20 06:55:07.212</td>\n",
       "      <td>2016-04-02 16:25:54.029</td>\n",
       "      <td>546d902c26714c6c44000039</td>\n",
       "      <td>Things that matter. Pass 'em on.</td>\n",
       "      <td>This Is What Sexism Against Men Sounds Like</td>\n",
       "      <td>&lt;p&gt;DISCLOSURE: I'm a dude. I have cried on mul...</td>\n",
       "      <td>this-is-what-sexism-against-men-sounds-like-am...</td>\n",
       "      <td>546d900426714c6c44000038</td>\n",
       "      <td>3380</td>\n",
       "      <td>98</td>\n",
       "      <td>25.3</td>\n",
       "      <td>False</td>\n",
       "      <td>False</td>\n",
       "      <td>If you ever wondered, \"but what about the men?...</td>\n",
       "      <td>NaN</td>\n",
       "      <td>201446</td>\n",
       "    </tr>\n",
       "    <tr>\n",
       "      <th>4</th>\n",
       "      <td>2014-11-20 06:55:20.347</td>\n",
       "      <td>2016-04-02 16:25:54.032</td>\n",
       "      <td>546d902c26714c6c44000039</td>\n",
       "      <td>Things that matter. Pass 'em on.</td>\n",
       "      <td>This Is What Sexism Against Men Sounds Like</td>\n",
       "      <td>&lt;p&gt;DISCLOSURE: I'm a dude. I have cried on mul...</td>\n",
       "      <td>this-is-what-sexism-against-men-sounds-like-am...</td>\n",
       "      <td>546d900426714c1ad900001e</td>\n",
       "      <td>3465</td>\n",
       "      <td>75</td>\n",
       "      <td>0.2</td>\n",
       "      <td>False</td>\n",
       "      <td>False</td>\n",
       "      <td>If you ever wondered, \"but what about the men?...</td>\n",
       "      <td>NaN</td>\n",
       "      <td>201446</td>\n",
       "    </tr>\n",
       "  </tbody>\n",
       "</table>\n",
       "</div>"
      ],
      "text/plain": [
       "                created_at               updated_at      clickability_test_id  \\\n",
       "0  2014-11-20 06:43:16.005  2016-04-02 16:33:38.062  546d88fb84ad38b2ce000024   \n",
       "1  2014-11-20 06:54:36.335  2016-04-02 16:25:54.027  546d902c26714c6c44000039   \n",
       "2  2014-11-20 06:54:57.878  2016-04-02 16:31:45.671  546d902c26714c6c44000039   \n",
       "3  2014-11-20 06:55:07.212  2016-04-02 16:25:54.029  546d902c26714c6c44000039   \n",
       "4  2014-11-20 06:55:20.347  2016-04-02 16:25:54.032  546d902c26714c6c44000039   \n",
       "\n",
       "                            excerpt  \\\n",
       "0  Things that matter. Pass 'em on.   \n",
       "1  Things that matter. Pass 'em on.   \n",
       "2  Things that matter. Pass 'em on.   \n",
       "3  Things that matter. Pass 'em on.   \n",
       "4  Things that matter. Pass 'em on.   \n",
       "\n",
       "                                            headline  \\\n",
       "0  They're Being Called 'Walmart's Worst Nightmar...   \n",
       "1        This Is What Sexism Against Men Sounds Like   \n",
       "2        This Is What Sexism Against Men Sounds Like   \n",
       "3        This Is What Sexism Against Men Sounds Like   \n",
       "4        This Is What Sexism Against Men Sounds Like   \n",
       "\n",
       "                                                lede  \\\n",
       "0  <p>When I saw *why* people are calling them \"W...   \n",
       "1  <p>DISCLOSURE: I'm a dude. I have cried on mul...   \n",
       "2  <p>DISCLOSURE: I'm a dude. I have cried on mul...   \n",
       "3  <p>DISCLOSURE: I'm a dude. I have cried on mul...   \n",
       "4  <p>DISCLOSURE: I'm a dude. I have cried on mul...   \n",
       "\n",
       "                                                slug  \\\n",
       "0  theyre-being-called-walmarts-worst-nightmare-a...   \n",
       "1  this-is-what-sexism-against-men-sounds-like-am...   \n",
       "2  this-is-what-sexism-against-men-sounds-like-am...   \n",
       "3  this-is-what-sexism-against-men-sounds-like-am...   \n",
       "4  this-is-what-sexism-against-men-sounds-like-am...   \n",
       "\n",
       "              eyecatcher_id  impressions  clicks  significance  first_place  \\\n",
       "0  546d6fa19ad54eec8d00002d         3052     150         100.0         True   \n",
       "1  546bc55335992b86c8000043         3526      90           4.1        False   \n",
       "2  546d900426714cd2dd00002e         3506     120         100.0         True   \n",
       "3  546d900426714c6c44000038         3380      98          25.3        False   \n",
       "4  546d900426714c1ad900001e         3465      75           0.2        False   \n",
       "\n",
       "   winner                                         share_text square  test_week  \n",
       "0    True  Anyone who's ever felt guilty about shopping a...    NaN     201446  \n",
       "1   False  If you ever wondered, \"but what about the men?...    NaN     201446  \n",
       "2   False  If you ever wondered, \"but what about the men?...    NaN     201446  \n",
       "3   False  If you ever wondered, \"but what about the men?...    NaN     201446  \n",
       "4   False  If you ever wondered, \"but what about the men?...    NaN     201446  "
      ]
     },
     "execution_count": 17,
     "metadata": {},
     "output_type": "execute_result"
    }
   ],
   "source": [
    "data = pd.read_csv('./data/upworthy.csv')\n",
    "data.head()"
   ]
  },
  {
   "attachments": {},
   "cell_type": "markdown",
   "metadata": {},
   "source": [
    "1.2 Each experiment comparing different versions of the same news piece (\"packages\") has a unique identifier (`clickability_test_id` column). \n",
    "Calculate how many different experiments were conducted in this dataset and, on average, how many packages were considered per experiment.  \n",
    "Last, plot the distribution of packages per experiment with a visualization of your choice."
   ]
  },
  {
   "cell_type": "code",
   "execution_count": 18,
   "metadata": {},
   "outputs": [
    {
     "name": "stdout",
     "output_type": "stream",
     "text": [
      "number of different experiments: 4822\n",
      "number of packages considered per experiment on average: 4.2727084197428455\n"
     ]
    },
    {
     "data": {
      "image/png": "[encoded data removed]",
      "text/plain": [
       "<Figure size 640x480 with 1 Axes>"
      ]
     },
     "metadata": {},
     "output_type": "display_data"
    }
   ],
   "source": [
    "num_experiments = data['clickability_test_id'].nunique()\n",
    "print(\"number of different experiments:\", num_experiments)\n",
    "print(\"number of packages considered per experiment on average:\", data.groupby('clickability_test_id').size().mean())\n",
    "df_2_plot = data.groupby('clickability_test_id').size().value_counts()\n",
    "plt.bar(df_2_plot.index, df_2_plot.values)\n",
    "plt.title(\"packages per experiments\")\n",
    "plt.xlabel(\"number of packages in experiment\")\n",
    "plt.ylabel(\"number of experiments containing n packages\")\n",
    "plt.show()"
   ]
  },
  {
   "attachments": {},
   "cell_type": "markdown",
   "metadata": {},
   "source": [
    "1.3 A common way to measure success in online A/B tests is what is called \"the clickthrough rate.\"\n",
    "Given that often A/B tests are created to find what engages users (here, \"packages\" of headlines, images, etc), we would expect that a \"good\" package makes people click often.  \n",
    "Create a column named `ctr` by dividing the number of clicks a package received (`clicks` column) by the number of impressions it received (`impressions` column)."
   ]
  },
  {
   "cell_type": "code",
   "execution_count": 19,
   "metadata": {},
   "outputs": [
    {
     "data": {
      "text/html": [
       "<div>\n",
       "<style scoped>\n",
       "    .dataframe tbody tr th:only-of-type {\n",
       "        vertical-align: middle;\n",
       "    }\n",
       "\n",
       "    .dataframe tbody tr th {\n",
       "        vertical-align: top;\n",
       "    }\n",
       "\n",
       "    .dataframe thead th {\n",
       "        text-align: right;\n",
       "    }\n",
       "</style>\n",
       "<table border=\"1\" class=\"dataframe\">\n",
       "  <thead>\n",
       "    <tr style=\"text-align: right;\">\n",
       "      <th></th>\n",
       "      <th>created_at</th>\n",
       "      <th>updated_at</th>\n",
       "      <th>clickability_test_id</th>\n",
       "      <th>excerpt</th>\n",
       "      <th>headline</th>\n",
       "      <th>lede</th>\n",
       "      <th>slug</th>\n",
       "      <th>eyecatcher_id</th>\n",
       "      <th>impressions</th>\n",
       "      <th>clicks</th>\n",
       "      <th>significance</th>\n",
       "      <th>first_place</th>\n",
       "      <th>winner</th>\n",
       "      <th>share_text</th>\n",
       "      <th>square</th>\n",
       "      <th>test_week</th>\n",
       "      <th>ctr</th>\n",
       "    </tr>\n",
       "  </thead>\n",
       "  <tbody>\n",
       "    <tr>\n",
       "      <th>0</th>\n",
       "      <td>2014-11-20 06:43:16.005</td>\n",
       "      <td>2016-04-02 16:33:38.062</td>\n",
       "      <td>546d88fb84ad38b2ce000024</td>\n",
       "      <td>Things that matter. Pass 'em on.</td>\n",
       "      <td>They're Being Called 'Walmart's Worst Nightmar...</td>\n",
       "      <td>&lt;p&gt;When I saw *why* people are calling them \"W...</td>\n",
       "      <td>theyre-being-called-walmarts-worst-nightmare-a...</td>\n",
       "      <td>546d6fa19ad54eec8d00002d</td>\n",
       "      <td>3052</td>\n",
       "      <td>150</td>\n",
       "      <td>100.0</td>\n",
       "      <td>True</td>\n",
       "      <td>True</td>\n",
       "      <td>Anyone who's ever felt guilty about shopping a...</td>\n",
       "      <td>NaN</td>\n",
       "      <td>201446</td>\n",
       "      <td>0.049148</td>\n",
       "    </tr>\n",
       "    <tr>\n",
       "      <th>1</th>\n",
       "      <td>2014-11-20 06:54:36.335</td>\n",
       "      <td>2016-04-02 16:25:54.027</td>\n",
       "      <td>546d902c26714c6c44000039</td>\n",
       "      <td>Things that matter. Pass 'em on.</td>\n",
       "      <td>This Is What Sexism Against Men Sounds Like</td>\n",
       "      <td>&lt;p&gt;DISCLOSURE: I'm a dude. I have cried on mul...</td>\n",
       "      <td>this-is-what-sexism-against-men-sounds-like-am...</td>\n",
       "      <td>546bc55335992b86c8000043</td>\n",
       "      <td>3526</td>\n",
       "      <td>90</td>\n",
       "      <td>4.1</td>\n",
       "      <td>False</td>\n",
       "      <td>False</td>\n",
       "      <td>If you ever wondered, \"but what about the men?...</td>\n",
       "      <td>NaN</td>\n",
       "      <td>201446</td>\n",
       "      <td>0.025525</td>\n",
       "    </tr>\n",
       "    <tr>\n",
       "      <th>2</th>\n",
       "      <td>2014-11-20 06:54:57.878</td>\n",
       "      <td>2016-04-02 16:31:45.671</td>\n",
       "      <td>546d902c26714c6c44000039</td>\n",
       "      <td>Things that matter. Pass 'em on.</td>\n",
       "      <td>This Is What Sexism Against Men Sounds Like</td>\n",
       "      <td>&lt;p&gt;DISCLOSURE: I'm a dude. I have cried on mul...</td>\n",
       "      <td>this-is-what-sexism-against-men-sounds-like-am...</td>\n",
       "      <td>546d900426714cd2dd00002e</td>\n",
       "      <td>3506</td>\n",
       "      <td>120</td>\n",
       "      <td>100.0</td>\n",
       "      <td>True</td>\n",
       "      <td>False</td>\n",
       "      <td>If you ever wondered, \"but what about the men?...</td>\n",
       "      <td>NaN</td>\n",
       "      <td>201446</td>\n",
       "      <td>0.034227</td>\n",
       "    </tr>\n",
       "    <tr>\n",
       "      <th>3</th>\n",
       "      <td>2014-11-20 06:55:07.212</td>\n",
       "      <td>2016-04-02 16:25:54.029</td>\n",
       "      <td>546d902c26714c6c44000039</td>\n",
       "      <td>Things that matter. Pass 'em on.</td>\n",
       "      <td>This Is What Sexism Against Men Sounds Like</td>\n",
       "      <td>&lt;p&gt;DISCLOSURE: I'm a dude. I have cried on mul...</td>\n",
       "      <td>this-is-what-sexism-against-men-sounds-like-am...</td>\n",
       "      <td>546d900426714c6c44000038</td>\n",
       "      <td>3380</td>\n",
       "      <td>98</td>\n",
       "      <td>25.3</td>\n",
       "      <td>False</td>\n",
       "      <td>False</td>\n",
       "      <td>If you ever wondered, \"but what about the men?...</td>\n",
       "      <td>NaN</td>\n",
       "      <td>201446</td>\n",
       "      <td>0.028994</td>\n",
       "    </tr>\n",
       "    <tr>\n",
       "      <th>4</th>\n",
       "      <td>2014-11-20 06:55:20.347</td>\n",
       "      <td>2016-04-02 16:25:54.032</td>\n",
       "      <td>546d902c26714c6c44000039</td>\n",
       "      <td>Things that matter. Pass 'em on.</td>\n",
       "      <td>This Is What Sexism Against Men Sounds Like</td>\n",
       "      <td>&lt;p&gt;DISCLOSURE: I'm a dude. I have cried on mul...</td>\n",
       "      <td>this-is-what-sexism-against-men-sounds-like-am...</td>\n",
       "      <td>546d900426714c1ad900001e</td>\n",
       "      <td>3465</td>\n",
       "      <td>75</td>\n",
       "      <td>0.2</td>\n",
       "      <td>False</td>\n",
       "      <td>False</td>\n",
       "      <td>If you ever wondered, \"but what about the men?...</td>\n",
       "      <td>NaN</td>\n",
       "      <td>201446</td>\n",
       "      <td>0.021645</td>\n",
       "    </tr>\n",
       "  </tbody>\n",
       "</table>\n",
       "</div>"
      ],
      "text/plain": [
       "                created_at               updated_at      clickability_test_id  \\\n",
       "0  2014-11-20 06:43:16.005  2016-04-02 16:33:38.062  546d88fb84ad38b2ce000024   \n",
       "1  2014-11-20 06:54:36.335  2016-04-02 16:25:54.027  546d902c26714c6c44000039   \n",
       "2  2014-11-20 06:54:57.878  2016-04-02 16:31:45.671  546d902c26714c6c44000039   \n",
       "3  2014-11-20 06:55:07.212  2016-04-02 16:25:54.029  546d902c26714c6c44000039   \n",
       "4  2014-11-20 06:55:20.347  2016-04-02 16:25:54.032  546d902c26714c6c44000039   \n",
       "\n",
       "                            excerpt  \\\n",
       "0  Things that matter. Pass 'em on.   \n",
       "1  Things that matter. Pass 'em on.   \n",
       "2  Things that matter. Pass 'em on.   \n",
       "3  Things that matter. Pass 'em on.   \n",
       "4  Things that matter. Pass 'em on.   \n",
       "\n",
       "                                            headline  \\\n",
       "0  They're Being Called 'Walmart's Worst Nightmar...   \n",
       "1        This Is What Sexism Against Men Sounds Like   \n",
       "2        This Is What Sexism Against Men Sounds Like   \n",
       "3        This Is What Sexism Against Men Sounds Like   \n",
       "4        This Is What Sexism Against Men Sounds Like   \n",
       "\n",
       "                                                lede  \\\n",
       "0  <p>When I saw *why* people are calling them \"W...   \n",
       "1  <p>DISCLOSURE: I'm a dude. I have cried on mul...   \n",
       "2  <p>DISCLOSURE: I'm a dude. I have cried on mul...   \n",
       "3  <p>DISCLOSURE: I'm a dude. I have cried on mul...   \n",
       "4  <p>DISCLOSURE: I'm a dude. I have cried on mul...   \n",
       "\n",
       "                                                slug  \\\n",
       "0  theyre-being-called-walmarts-worst-nightmare-a...   \n",
       "1  this-is-what-sexism-against-men-sounds-like-am...   \n",
       "2  this-is-what-sexism-against-men-sounds-like-am...   \n",
       "3  this-is-what-sexism-against-men-sounds-like-am...   \n",
       "4  this-is-what-sexism-against-men-sounds-like-am...   \n",
       "\n",
       "              eyecatcher_id  impressions  clicks  significance  first_place  \\\n",
       "0  546d6fa19ad54eec8d00002d         3052     150         100.0         True   \n",
       "1  546bc55335992b86c8000043         3526      90           4.1        False   \n",
       "2  546d900426714cd2dd00002e         3506     120         100.0         True   \n",
       "3  546d900426714c6c44000038         3380      98          25.3        False   \n",
       "4  546d900426714c1ad900001e         3465      75           0.2        False   \n",
       "\n",
       "   winner                                         share_text square  \\\n",
       "0    True  Anyone who's ever felt guilty about shopping a...    NaN   \n",
       "1   False  If you ever wondered, \"but what about the men?...    NaN   \n",
       "2   False  If you ever wondered, \"but what about the men?...    NaN   \n",
       "3   False  If you ever wondered, \"but what about the men?...    NaN   \n",
       "4   False  If you ever wondered, \"but what about the men?...    NaN   \n",
       "\n",
       "   test_week       ctr  \n",
       "0     201446  0.049148  \n",
       "1     201446  0.025525  \n",
       "2     201446  0.034227  \n",
       "3     201446  0.028994  \n",
       "4     201446  0.021645  "
      ]
     },
     "execution_count": 19,
     "metadata": {},
     "output_type": "execute_result"
    }
   ],
   "source": [
    "data['ctr'] = data['clicks'] / data['impressions']\n",
    "data.head()"
   ]
  },
  {
   "attachments": {},
   "cell_type": "markdown",
   "metadata": {},
   "source": [
    "1.4 Packages varied any combination of the headline (`headline` column), the excerpt (`excerpt`), the first sentence of the article (`lede`), and the image that illustrates the news piece (`eyecatcher_id`, a hash per image).  \n",
    "But we want to isolate the effect of the headline on the clickthrough rate. To do that, create a new dataframe where you filter all experiments where only one headline is present.  \n",
    "Print the length of this new dataframe and how many experiments were discarded in the filtering process."
   ]
  },
  {
   "cell_type": "code",
   "execution_count": 20,
   "metadata": {},
   "outputs": [
    {
     "name": "stdout",
     "output_type": "stream",
     "text": [
      "number of experiments with only one headline: 9003\n",
      "number of excluded experiments: 11600\n"
     ]
    }
   ],
   "source": [
    "headline_per_experiment = data.groupby('clickability_test_id')['headline'].nunique()\n",
    "single_headline = headline_per_experiment[headline_per_experiment == 1]\n",
    "one_headline_exp = data[data['clickability_test_id'].isin(single_headline.index)]\n",
    "print(\"number of experiments with only one headline:\", len(one_headline_exp))\n",
    "print(\"number of excluded experiments:\", len(data) - len(one_headline_exp))"
   ]
  },
  {
   "attachments": {},
   "cell_type": "markdown",
   "metadata": {},
   "source": [
    "1.5 For comparison, repeat the procedure described in **T1.4** with the `eyecatcher_id` column, i.e., create a dataframe considering only experiments that vary the image. Again, print the length of this new dataframe and how many experiments were discarded in the filtering process.\n"
   ]
  },
  {
   "cell_type": "code",
   "execution_count": 21,
   "metadata": {},
   "outputs": [
    {
     "name": "stdout",
     "output_type": "stream",
     "text": [
      "number of experiments with only one image: 12655\n",
      "number of excluded experiments: 7948\n"
     ]
    }
   ],
   "source": [
    "image_per_experiment = data.groupby('clickability_test_id')['eyecatcher_id'].nunique()\n",
    "single_image = image_per_experiment[image_per_experiment == 1]\n",
    "one_image_exp = data[data['clickability_test_id'].isin(single_image.index)]\n",
    "print(\"number of experiments with only one image:\", len(one_image_exp))\n",
    "print(\"number of excluded experiments:\", len(data) - len(one_image_exp))"
   ]
  },
  {
   "attachments": {},
   "cell_type": "markdown",
   "metadata": {},
   "source": [
    "1.6 Considering the answers to questions **T1.4** and **T1.5**, what can we say about the different versions of the news tested by Upworthy?"
   ]
  },
  {
   "attachments": {},
   "cell_type": "markdown",
   "metadata": {},
   "source": [
    "As we can see, the number of experiments with the same headline is less than the number of experiments with the same picture, which means the importance of headline is more than picture and we value the experiments with different headlines more than different pictures. However the difference is not extremely high because still the picture matters."
   ]
  },
  {
   "attachments": {},
   "cell_type": "markdown",
   "metadata": {},
   "source": [
    "1.7 For our subsequent analysis, we want to compare the causal effect of headlines on the success of a news piece. \n",
    "For that, we can compare pairs of packages with the same `eyecatcher_id`, `lede`, and `excerpt`, but different `headlines`.\n",
    "Note that this means that if an experiment considered 5 different headlines and did not vary any other stimulus, we would have 5C2 (i.e., 5 choose 2, 10) pairs to consider.\n",
    "Create a dataset where:\n",
    "- Each row corresponds to a pair of packages with different `headline` but the same `eyecatcher_id`, `lede`, and `excerpt`. \n",
    "- There are columns containing the headlines of each of the news versions (`headline1`, `headline2`) and the clickthrough rate of each of the news versions (`ctr1`, `ctr2`). \n",
    "- The columns `headline1` and `ctr1` contain the data associated with the news version with the highest clickthrough rate. Print the first rows of your newly created dataframe, as well as its length.\n",
    "-  The rows where the two news pieces had exactly the same clickthrough rate should be filtered out (this is for simplicity's sake).\n",
    "-  The column `date_created` contains the date when the news version with the highest clickthrough rate was created.\n"
   ]
  },
  {
   "cell_type": "code",
   "execution_count": 27,
   "metadata": {},
   "outputs": [
    {
     "data": {
      "text/html": [
       "<div>\n",
       "<style scoped>\n",
       "    .dataframe tbody tr th:only-of-type {\n",
       "        vertical-align: middle;\n",
       "    }\n",
       "\n",
       "    .dataframe tbody tr th {\n",
       "        vertical-align: top;\n",
       "    }\n",
       "\n",
       "    .dataframe thead th {\n",
       "        text-align: right;\n",
       "    }\n",
       "</style>\n",
       "<table border=\"1\" class=\"dataframe\">\n",
       "  <thead>\n",
       "    <tr style=\"text-align: right;\">\n",
       "      <th></th>\n",
       "      <th>headline1</th>\n",
       "      <th>ctr1</th>\n",
       "      <th>headline2</th>\n",
       "      <th>ctr2</th>\n",
       "      <th>date_created</th>\n",
       "    </tr>\n",
       "  </thead>\n",
       "  <tbody>\n",
       "    <tr>\n",
       "      <th>0</th>\n",
       "      <td>This Is What Sexism Against Men Sounds Like</td>\n",
       "      <td>0.025525</td>\n",
       "      <td>This Is What Sexism Against Men Looks Like</td>\n",
       "      <td>0.024872</td>\n",
       "      <td>2014-11-20 06:54:36.335</td>\n",
       "    </tr>\n",
       "    <tr>\n",
       "      <th>1</th>\n",
       "      <td>This Is What Sexism Against Men Sounds Like</td>\n",
       "      <td>0.025525</td>\n",
       "      <td>This Is What Sexism Against Men Looks Like</td>\n",
       "      <td>0.024872</td>\n",
       "      <td>2014-11-20 06:54:36.335</td>\n",
       "    </tr>\n",
       "    <tr>\n",
       "      <th>2</th>\n",
       "      <td>A Science Guy Helps 3 Dudes From America Under...</td>\n",
       "      <td>0.012689</td>\n",
       "      <td>What They Learned From The Scientist Was Terri...</td>\n",
       "      <td>0.011101</td>\n",
       "      <td>2014-11-20 14:54:18.78</td>\n",
       "    </tr>\n",
       "    <tr>\n",
       "      <th>3</th>\n",
       "      <td>What They Learned From The Scientist Was Terri...</td>\n",
       "      <td>0.011101</td>\n",
       "      <td>He Sat Them Down And Told Them About An Immine...</td>\n",
       "      <td>0.005868</td>\n",
       "      <td>2014-11-20 14:57:52.478</td>\n",
       "    </tr>\n",
       "    <tr>\n",
       "      <th>4</th>\n",
       "      <td>The 3 Of Them Needed To See It In Person, And ...</td>\n",
       "      <td>0.013795</td>\n",
       "      <td>What They Learned From The Scientist Was Terri...</td>\n",
       "      <td>0.011101</td>\n",
       "      <td>2014-11-20 15:13:36.266</td>\n",
       "    </tr>\n",
       "  </tbody>\n",
       "</table>\n",
       "</div>"
      ],
      "text/plain": [
       "                                           headline1      ctr1  \\\n",
       "0        This Is What Sexism Against Men Sounds Like  0.025525   \n",
       "1        This Is What Sexism Against Men Sounds Like  0.025525   \n",
       "2  A Science Guy Helps 3 Dudes From America Under...  0.012689   \n",
       "3  What They Learned From The Scientist Was Terri...  0.011101   \n",
       "4  The 3 Of Them Needed To See It In Person, And ...  0.013795   \n",
       "\n",
       "                                           headline2      ctr2  \\\n",
       "0         This Is What Sexism Against Men Looks Like  0.024872   \n",
       "1         This Is What Sexism Against Men Looks Like  0.024872   \n",
       "2  What They Learned From The Scientist Was Terri...  0.011101   \n",
       "3  He Sat Them Down And Told Them About An Immine...  0.005868   \n",
       "4  What They Learned From The Scientist Was Terri...  0.011101   \n",
       "\n",
       "              date_created  \n",
       "0  2014-11-20 06:54:36.335  \n",
       "1  2014-11-20 06:54:36.335  \n",
       "2   2014-11-20 14:54:18.78  \n",
       "3  2014-11-20 14:57:52.478  \n",
       "4  2014-11-20 15:13:36.266  "
      ]
     },
     "execution_count": 27,
     "metadata": {},
     "output_type": "execute_result"
    }
   ],
   "source": [
    "cols = ['eyecatcher_id', 'lede', 'excerpt', 'headline', 'ctr', 'created_at']\n",
    "tmp = data[cols].copy()\n",
    "df = pd.merge(tmp, tmp, on=['eyecatcher_id', 'lede', 'excerpt'], suffixes=('1', '2'))\n",
    "df = df[df['headline1'] != df['headline2']]\n",
    "df = df[df['ctr1'] != df['ctr2']]\n",
    "df['date_created'] = df.apply(lambda row: row['created_at1'] if row['ctr1'] > row['ctr2'] else row['created_at2'], axis=1)\n",
    "df['max_ctr'] = df[['ctr1', 'ctr2']].max(axis=1)\n",
    "df['max_hl'] = df.apply(lambda row: row['headline1'] if row['ctr1'] == row['max_ctr'] else row['headline2'], axis=1)\n",
    "df['min_ctr'] = df[['ctr1', 'ctr2']].min(axis=1)\n",
    "df['min_hl'] = df.apply(lambda row: row['headline2'] if row['ctr1'] == row['max_ctr'] else row['headline1'], axis=1)\n",
    "df['ctr1'] = df['max_ctr']\n",
    "df['ctr2'] = df['min_ctr']\n",
    "df['headline1'] = df['max_hl']\n",
    "df['headline2'] = df['min_hl']\n",
    "df.drop(['eyecatcher_id', 'lede', 'excerpt', 'created_at1', 'created_at2', 'max_ctr', 'max_hl', 'min_ctr', 'min_hl'], axis=1, inplace=True)\n",
    "df.reset_index(inplace=True, drop=True)\n",
    "df.head()"
   ]
  },
  {
   "attachments": {},
   "cell_type": "markdown",
   "metadata": {},
   "source": [
    "1.8 To get a sense of the impact of headline change, measure the average difference per pair between the most clicked-through (`ctr1`) and the least clicked-through headline (`ctr2`), as well as the average clickthrough rate for the least clicked through headline (`ctr2`)."
   ]
  },
  {
   "cell_type": "code",
   "execution_count": 28,
   "metadata": {},
   "outputs": [
    {
     "name": "stdout",
     "output_type": "stream",
     "text": [
      "Average difference between the clickthrough rates: 0.004255990263154608\n",
      "Average minimum clickthrough rate: 0.010722529189686612\n"
     ]
    }
   ],
   "source": [
    "diff_avg = (df['ctr1'] - df['ctr2']).mean()\n",
    "least_avg = (df['ctr2']).mean()\n",
    "print(\"Average difference between the clickthrough rates:\", diff_avg)\n",
    "print(\"Average minimum clickthrough rate:\", least_avg)"
   ]
  },
  {
   "attachments": {},
   "cell_type": "markdown",
   "id": "7b640175",
   "metadata": {},
   "source": [
    " 1.9 **Discuss:** Considering your answer to **T1.8**, and assuming the average differences in clickthrough rates between pairs are statistically significant, do you think that headlines are impactful in the news business? Justify with the data."
   ]
  },
  {
   "cell_type": "code",
   "execution_count": 29,
   "id": "d3a9f611",
   "metadata": {},
   "outputs": [
    {
     "name": "stdout",
     "output_type": "stream",
     "text": [
      "If we choose the best headling we will see a 39.69% improvement!\n"
     ]
    }
   ],
   "source": [
    "print(f\"If we choose the best headling we will see a {(diff_avg/least_avg)*100:.2f}% improvement!\")"
   ]
  },
  {
   "cell_type": "markdown",
   "metadata": {},
   "source": [
    "As we can see the improvement is pretty good and we can neighter ignore nor underestimate the effect of headlines in the number of clicks. so it is important and we must analyze it."
   ]
  },
  {
   "attachments": {},
   "cell_type": "markdown",
   "metadata": {},
   "source": [
    "## 2 Extracting Signals from the Data\n",
    "\n",
    "Your second task is to extract meaningful signals from the data.  \n",
    "We start this task from the dataset obtained in **T1.7**.   \n",
    "Recall that we have one A/B test per row with the clickthrough rate of two news pieces that differ only in their headline.  \n",
    "We refer to the version with the higher clickthrough rate as the \"winner\" and the version with the lower as the \"loser.\"  \n",
    "(Note that this is not the same as the column `winner` in the original data, which captures a similar concept but considering the original experiments, where multiple comparisons were made!)  \n",
    " \n",
    "2.1 Using the function provided below, count the number of words in each headline, creating columns `numwords1` and `numwords2` corresponding to the number of words in the winner and loser headlines."
   ]
  },
  {
   "cell_type": "code",
   "execution_count": 30,
   "metadata": {},
   "outputs": [],
   "source": [
    "def count_words(txt):\n",
    "    return len(txt.split(' '))\n",
    "\n",
    "df['numwords1'] = df['headline1'].apply(lambda x: count_words(x))\n",
    "df['numwords2'] = df['headline2'].apply(lambda x: count_words(x))"
   ]
  },
  {
   "attachments": {},
   "cell_type": "markdown",
   "metadata": {},
   "source": [
    "2.2 Using the dictionary of pronouns provided below, create indicator variables corresponding to each set of pronouns (e.g., first-person singular may yield columns `first_person_singular1` and `first_person_singular2` for the headlines in each A/B test). \n",
    "Each indicator variable in the dataframe should equal 1 if the corresponding headline uses the corresponding type of pronoun and 0 otherwise. \n",
    "Your code should be agnostic to lower/upper case."
   ]
  },
  {
   "cell_type": "code",
   "execution_count": 31,
   "metadata": {},
   "outputs": [],
   "source": [
    "feature_wordsets = dict([\n",
    "    # https://en.wikipedia.org/wiki/English_personal_pronouns\n",
    "    ('first_person_singular', ['i', 'me', 'my', 'mine', 'myself',\n",
    "                               \"i'd\", \"i'll\", \"i'm\", \"i've\", 'id', 'im', 'ive']),\n",
    "    ('first_person_plural', ['we', 'us', 'our', 'ours', 'ourselves',\n",
    "                              \"we'd\", \"we'll\", \"we're\", \"we've\",]),\n",
    "    ('second_person', ['you','your','yours','yourself',\n",
    "                              \"ya\", \"you'd\", \"you'll\", \"you're\", \"you've\", 'youll', 'youre', 'youve', \n",
    "                              'yourselves']),\n",
    "    ('third_person_singular', ['he','him','his','himself',\n",
    "                               \"he'd\", \"he's\", 'hes',\n",
    "                               'she','her','hers','herself', \n",
    "                               \"she'll\", \"she's\", 'shes',\n",
    "                               'it','its','itself',\n",
    "                               'themself']),\n",
    "    ('third_person_plural', ['they','them','their','theirs','themselves',\n",
    "                              \"they'd\", \"they'll\", \"they've\", 'theyll', 'theyve'])\n",
    "])"
   ]
  },
  {
   "cell_type": "code",
   "execution_count": 32,
   "metadata": {},
   "outputs": [],
   "source": [
    "for key in feature_wordsets.keys():\n",
    "    df[key + '1'] = df['headline1'].apply(lambda x: 1 if any(word in x for word in feature_wordsets[key]) else 0)\n",
    "    df[key + '2'] = df['headline2'].apply(lambda x: 1 if any(word in x for word in feature_wordsets[key]) else 0)"
   ]
  },
  {
   "attachments": {},
   "cell_type": "markdown",
   "id": "00795a15",
   "metadata": {},
   "source": [
    "2.3 One easy way to classify sentiment is simply to match negative or positive words. \n",
    "    Use the lists of words (positive and negative files in `data` folder) to obtain \"positive sentiment\" and \"negative sentiment\" scores for each headline. Create columns `positive1`/`positive2` and `negative1`/`negative2` containing indicator variables for positive and negative sentiment, i.e., A headline has a \"positive sentiment\" (or negative) score equal 1 if it contains at least one positive (or negative) sentiment word on the list. Otherwise, its \"positive sentiment\" (or negative) score equals 0.\n",
    "    \n",
    "[1]: https://ptrckprry.com/course/ssd/data/positive-words.txt\n",
    "[2]: https://ptrckprry.com/course/ssd/data/negative-words.txt\n",
    "\n",
    "--- \n",
    "\n",
    "**Comments**\n",
    "\n",
    "- For **T2.3**, beware of encodings!"
   ]
  },
  {
   "cell_type": "code",
   "execution_count": 33,
   "metadata": {},
   "outputs": [],
   "source": [
    "def read_words(path):\n",
    "    with open(path, 'r', encoding='latin_1') as f_read:\n",
    "        lines = f_read.readlines()[35:-1]\n",
    "        words = [line.strip() for line in lines]\n",
    "    return np.array(words)\n",
    "\n",
    "pos_path = './data/positive-words.txt'\n",
    "neg_path = './data/negative-words.txt'\n",
    "pos_words = read_words(pos_path)\n",
    "neg_words = read_words(neg_path)"
   ]
  },
  {
   "attachments": {},
   "cell_type": "markdown",
   "metadata": {},
   "source": [
    "## 3 Estimating the Effect of Language on Headline Success\n",
    "\n",
    "Your third task revolves around the question *how does language impact headlines' success?*\n",
    "\n",
    "3.1 First, we examine whether the winner headlines have more or fewer words than the loser headline. Conduct an independent sample t-test and paired t-test (see [scipy.stats](https://docs.scipy.org/doc/scipy/reference/generated/scipy.stats.ttest_ind.html#scipy.stats.ttest_ind); for the independent sample t-test, assume equal variance). Also, calculate and print the mean difference between the number of words in the winner and the loser headlines."
   ]
  },
  {
   "cell_type": "code",
   "execution_count": 36,
   "metadata": {},
   "outputs": [
    {
     "name": "stdout",
     "output_type": "stream",
     "text": [
      "Independent Sample t-test Result:\n",
      "Statistic: 14.012681029741316\n",
      "P-value: 1.467224026451328e-44\n",
      "\n",
      "Paired t-test Result:\n",
      "Statistic: 16.825141895885228\n",
      "P-value: 2.6004015467406686e-63\n",
      "\n",
      "Mean Difference between Winner and Loser Headlines: 0.2988053613053613\n"
     ]
    }
   ],
   "source": [
    "independent_ttest_res = stats.ttest_ind(df['numwords1'], df['numwords2'], equal_var=True)\n",
    "paired_ttest_res = stats.ttest_rel(df['numwords1'], df['numwords2'])\n",
    "\n",
    "word_differences = df['numwords1'] - df['numwords2']\n",
    "mean_difference = word_differences.mean()\n",
    "\n",
    "print(\"Independent Sample t-test Result:\")\n",
    "print(\"Statistic:\", independent_ttest_res.statistic)\n",
    "print(\"P-value:\", independent_ttest_res.pvalue)\n",
    "print(\"\\nPaired t-test Result:\")\n",
    "print(\"Statistic:\", paired_ttest_res.statistic)\n",
    "print(\"P-value:\", paired_ttest_res.pvalue)\n",
    "print(\"\\nMean Difference between Winner and Loser Headlines:\", mean_difference)"
   ]
  },
  {
   "attachments": {},
   "cell_type": "markdown",
   "metadata": {},
   "source": [
    "3.2 **Discuss:** Are longer headlines more successful? Justify."
   ]
  },
  {
   "attachments": {},
   "cell_type": "markdown",
   "metadata": {},
   "source": [
    "As we can see, the number of words of the headlines are almost equal, as the average difference is less than 1. However we can see a strong correlation between the number of words and the probability of success, becase the p-value of our tests is extremly low. So we can infer that in general, longer headlines seem to be more successful than shorter ones."
   ]
  },
  {
   "attachments": {},
   "cell_type": "markdown",
   "metadata": {},
   "source": [
    "3.3 The [t-statistic](https://en.wikipedia.org/wiki/T-statistic) is the ratio of the departure of the estimated value of a parameter from its hypothesized value to its standard error. In a t-test, the higher the t-statistic, the more confidently we can reject the null hypothesis. Use `numpy.random` to create four samples, each of size 30:\n",
    "- $X \\sim Uniform(0,1)$\n",
    "- $Y \\sim Uniform(0,1)$\n",
    "- $Z = X/2 + Y/2 + 0.1$\n",
    "- $K = Y + 0.1$"
   ]
  },
  {
   "cell_type": "code",
   "execution_count": 39,
   "metadata": {},
   "outputs": [],
   "source": [
    "X = np.random.uniform(0, 1, 30)\n",
    "Y = np.random.uniform(0, 1, 30)\n",
    "Z = X/2 + Y/2 + 0.1\n",
    "K = Y + 0.1"
   ]
  },
  {
   "attachments": {},
   "cell_type": "markdown",
   "metadata": {},
   "source": [
    "3.4 **Discuss:** What are the expected values and the variance of $X$, $Y$, $Z$, and $K$? (You don't need to justify them!)"
   ]
  },
  {
   "cell_type": "markdown",
   "metadata": {},
   "source": [
    "From what we know about uniform distributions:\n",
    "- X & Y: expected = 1/2, var = 1/12\n",
    "- Z: expected = 0.6, var = 1/6\n",
    "- K: expected = 0.6, var = 1/12"
   ]
  },
  {
   "cell_type": "code",
   "execution_count": 40,
   "metadata": {},
   "outputs": [
    {
     "name": "stdout",
     "output_type": "stream",
     "text": [
      "X: expected = 0.5453589968686223, var = 0.06083297352207922\n",
      "Y: expected = 0.47443718588653194, var = 0.07671390005681768\n",
      "Z: expected = 0.6098980913775771, var = 0.033434069924229454\n",
      "K: expected = 0.5744371858865319, var = 0.07671390005681768\n"
     ]
    }
   ],
   "source": [
    "print(f\"X: expected = {X.mean()}, var = {X.var()}\")\n",
    "print(f\"Y: expected = {Y.mean()}, var = {Y.var()}\")\n",
    "print(f\"Z: expected = {Z.mean()}, var = {Z.var()}\")\n",
    "print(f\"K: expected = {K.mean()}, var = {K.var()}\")"
   ]
  },
  {
   "attachments": {},
   "cell_type": "markdown",
   "metadata": {},
   "source": [
    "3.5 Run the following simulation 10000 times, storing the $p$-values for the tests at each run:\n",
    "- Sample new values  for $X$, $Y$, $Z$ and $K$ ($n=30$ each). \n",
    "- Run independent sample t-test (assuming equal variance) and paired t-test comparing $X$ and $Z$.\n",
    "-  Run independent sample t-test (assuming equal variance) and paired t-test comparing $X$ and $K$."
   ]
  },
  {
   "cell_type": "code",
   "execution_count": 41,
   "metadata": {},
   "outputs": [],
   "source": [
    "p_values_XZ_independent = []\n",
    "p_values_XZ_paired = []\n",
    "p_values_XK_independent = []\n",
    "p_values_XK_paired = []\n",
    "\n",
    "for i in range(10000):\n",
    "    X = np.random.uniform(0, 1, 30)\n",
    "    Y = np.random.uniform(0, 1, 30)\n",
    "    Z = X/2 + Y/2 + 0.1\n",
    "    K = Y + 0.1\n",
    "    p_values_XZ_independent.append(stats.ttest_ind(X, Z, equal_var=True).pvalue)\n",
    "    p_values_XZ_paired.append(stats.ttest_rel(X, Z).pvalue)\n",
    "    p_values_XK_independent.append(stats.ttest_ind(X, K, equal_var=True).pvalue)\n",
    "    p_values_XK_paired.append(stats.ttest_rel(X, K).pvalue)\n",
    "\n",
    "p_values_XZ_independent = np.array(p_values_XZ_independent)\n",
    "p_values_XZ_paired = np.array(p_values_XZ_paired)\n",
    "p_values_XK_independent = np.array(p_values_XK_independent)\n",
    "p_values_XK_paired = np.array(p_values_XK_paired)"
   ]
  },
  {
   "attachments": {},
   "cell_type": "markdown",
   "metadata": {},
   "source": [
    "3.6 Recall that the power of a binary hypothesis test is the probability that the test correctly rejects the null hypothesis when the alternative hypothesis is true. Using the p-values and assuming that we reject the null hypothesis if $p < 0.05$, calculate the statistical power of:\n",
    "- The independent sample t-test comparing $X$ and $Z$.\n",
    "- The paired t-test comparing $X$ and $Z$.\n",
    "- The independent sample t-test comparing $X$ and $K$.\n",
    "- The paired t-test comparing $X$ and $K$."
   ]
  },
  {
   "cell_type": "code",
   "execution_count": 42,
   "metadata": {},
   "outputs": [
    {
     "name": "stdout",
     "output_type": "stream",
     "text": [
      "Power for Independent t-test (X and Z): 0.2264\n",
      "Power for Paired t-test (X and Z): 0.7356\n",
      "Power for Independent t-test (X and K): 0.2608\n",
      "Power for Paired t-test (X and K): 0.2491\n"
     ]
    }
   ],
   "source": [
    "alpha = 0.05\n",
    "power_XZ_independent = np.mean(p_values_XZ_independent < alpha)\n",
    "power_XZ_paired = np.mean(p_values_XZ_paired < alpha)\n",
    "power_XK_independent = np.mean(p_values_XK_independent < alpha)\n",
    "power_XK_paired = np.mean(p_values_XK_paired < alpha)\n",
    "\n",
    "print(\"Power for Independent t-test (X and Z):\", power_XZ_independent)\n",
    "print(\"Power for Paired t-test (X and Z):\", power_XZ_paired)\n",
    "print(\"Power for Independent t-test (X and K):\", power_XK_independent)\n",
    "print(\"Power for Paired t-test (X and K):\", power_XK_paired)"
   ]
  },
  {
   "attachments": {},
   "cell_type": "markdown",
   "metadata": {},
   "source": [
    "3.7 **Discuss:** When are paired t-tests helpful? Justify."
   ]
  },
  {
   "cell_type": "markdown",
   "metadata": {},
   "source": [
    "Paired t-tests are helpful when you are dealing with related or matched samples. In this case, one our observations is related and the other one is not related and as we can see, there is a meaningful difference between them. Because X and Z are related, we can see that the value of the second test is notably higher than all the other tests. However we must notice that paired t-tests assume that the differences between pairs are normally distributed. If this assumption is not true, or if the data has extreme outliers, alternative non-parametric tests might be more appropriate."
   ]
  },
  {
   "attachments": {},
   "cell_type": "markdown",
   "metadata": {},
   "source": [
    "3.8 With a bootstrapping approach (implemented by yourself, you should not use existing bootstrapping functions), estimate the average difference and 95% confidence intervals for:\n",
    "- the mean ratio between the number of words in the winner headline and the loser headline (i.e., the number of words in the winner headline divided by the number of words in the loser headlines).\n",
    "- the difference in usage of positive words between winner and loser headlines.\n",
    "- the difference in usage of negative words between winner and loser headlines.\n",
    "- The difference in usage of each type of pronoun between winner and loser headlines."
   ]
  },
  {
   "cell_type": "code",
   "execution_count": 44,
   "metadata": {},
   "outputs": [],
   "source": [
    "def bootstrap_mean_ratio(data, num_bootstraps=1000):\n",
    "    mean_ratios = []\n",
    "\n",
    "    for _ in range(num_bootstraps):\n",
    "        bootstrapped_data = data.sample(frac=1, replace=True)\n",
    "        winner_num_words = bootstrapped_data['numwords1']\n",
    "        loser_num_words = bootstrapped_data['numwords2']\n",
    "\n",
    "        mean_ratio = np.mean(winner_num_words / loser_num_words)\n",
    "        mean_ratios.append(mean_ratio)\n",
    "\n",
    "    return np.mean(mean_ratios) ,np.percentile(mean_ratios, [2.5, 97.5])\n",
    "\n",
    "def bootstrap_mean_diff(data, col_name, num_bootstraps=1000):\n",
    "    mean_diffs = []\n",
    "\n",
    "    for _ in range(num_bootstraps):\n",
    "        bootstrapped_data = data.sample(frac=1, replace=True)\n",
    "        winner_metric = bootstrapped_data[col_name + '1']\n",
    "        loser_metric = bootstrapped_data[col_name + '2']\n",
    "\n",
    "        mean_diff = np.mean(winner_metric - loser_metric)\n",
    "        mean_diffs.append(mean_diff)\n",
    "\n",
    "    return np.mean(mean_diffs) ,np.percentile(mean_diffs, [2.5, 97.5])"
   ]
  },
  {
   "cell_type": "code",
   "execution_count": 45,
   "metadata": {},
   "outputs": [
    {
     "name": "stdout",
     "output_type": "stream",
     "text": [
      "Mean ratio of number of words (95% CI): [1.05990422 1.0659856 ] and the value: 1.062909070835611\n",
      "Difference in usage of positive words (95% CI): [0.00679694 0.01649123] and the value: 0.011783823815073816\n",
      "Difference in usage of negative words (95% CI): [-0.00138464  0.00121467] and the value: -5.795940170940171e-05\n",
      "Difference in usage of first_person_singular pronouns (95% CI): [0.00029138 0.00422494] and the value: 0.002262796231546232\n",
      "Difference in usage of first_person_plural pronouns (95% CI): [-0.01583564 -0.00429596] and the value: -0.00998589257964258\n",
      "Difference in usage of second_person pronouns (95% CI): [-0.0009239   0.00203963] and the value: 0.0005421280108780109\n",
      "Difference in usage of third_person_singular pronouns (95% CI): [0.00718665 0.01639047] and the value: 0.011806089743589744\n",
      "Difference in usage of third_person_plural pronouns (95% CI): [-0.00133668  0.00121406] and the value: -6.291278166278166e-05\n"
     ]
    }
   ],
   "source": [
    "mean_ratio, mean_ratio_percentiles = bootstrap_mean_ratio(df)\n",
    "print(\"Mean ratio of number of words (95% CI):\", mean_ratio_percentiles, \"and the value:\", mean_ratio)\n",
    "\n",
    "mean_pos, pos_diff_percentiles = bootstrap_mean_diff(df, 'third_person_singular')\n",
    "print(\"Difference in usage of positive words (95% CI):\", pos_diff_percentiles, \"and the value:\", mean_pos)\n",
    "\n",
    "mean_neg, neg_diff_percentiles = bootstrap_mean_diff(df, 'third_person_plural')\n",
    "print(\"Difference in usage of negative words (95% CI):\", neg_diff_percentiles, \"and the value:\", mean_neg)\n",
    "\n",
    "pronoun_types = ['first_person_singular', 'first_person_plural', 'second_person', 'third_person_singular', 'third_person_plural']\n",
    "for pronoun_type in pronoun_types:\n",
    "    mean_pronoun, pronoun_diff_percentiles = bootstrap_mean_diff(df, pronoun_type)\n",
    "    print(\"Difference in usage of {} pronouns (95% CI):\".format(pronoun_type), pronoun_diff_percentiles, \"and the value:\", mean_pronoun)"
   ]
  },
  {
   "attachments": {},
   "cell_type": "markdown",
   "metadata": {},
   "source": [
    "3.9 **Discuss:** According to the results obtained in **T3.8**, what headlines grab people's attention the most? Justify your answer."
   ]
  },
  {
   "cell_type": "markdown",
   "metadata": {},
   "source": [
    "From the first result we can infer that winner headers had slightly(10%) more words in them as we already discussed.</br>\n",
    "From the second and third result we can infer that winners had more positive words in them, but the number of negative words didn't affect the outcome that much.</br>\n",
    "From the other results we can infer that the usage of pronouns didn't affect the number of clicks that much and the maximum difference is 1% which is for third-person singular pronouns."
   ]
  },
  {
   "attachments": {},
   "cell_type": "markdown",
   "id": "572f0b46",
   "metadata": {},
   "source": [
    "---\n",
    "**Comments:**\n",
    "\n",
    "- Paired t-test formula: $t = \\frac{\\overline{x}_{\\mathrm{diff}}}{s_{\\mathrm{diff}} / \\sqrt n }$ where:\n",
    "    - $\\overline{x}_{\\mathrm{diff}}$ is the sample difference between the means of the matched sample; and\n",
    "    - $s_{\\mathrm{diff}}$ is the sample variance of the matched sample; and\n",
    "    - $n$ is the number of matched samples.\n",
    "    \n",
    "- Independent samples t-test formula: $t = \\frac{\\overline{x}_{1} - \\overline{x}_{2}}{\\sqrt{\\frac{s_{1}^{2}}{n_{1}} + \\frac{s_{2}^{2}}{n_{2}}}}$ where:\n",
    "    - $\\overline{x}_{\\mathrm{1}}$ is the sample mean of the first group; and\n",
    "    - $s_{\\mathrm{1}}$ is the sample variance of the first group; and\n",
    "    - $n_1$ is the number of samples in the first group;\n",
    "    \n",
    "     \n",
    "- t-tests are valid for samples of non-normal distribution for large enough samples (a rule of thumb used is: n $\\geq$ 30)!"
   ]
  },
  {
   "attachments": {},
   "cell_type": "markdown",
   "metadata": {},
   "source": [
    "## 4 Summing up\n",
    "Now you have implemented the pipeliene to continiously compare various headlines against each other and even through time. So it's time to come back and think, was it worth the endeavor? In other words, can you think of any other ways to achieve the same goal? It is also time (or maybe even late!) to think of the ethics of what you have done!\n",
    "\n",
    "5.1 **Discuss:** Try to think of other solutions that would possibly achieve the same goal. Maybe with less precision but also less complexity, cost of implementation, etc. Briefly explain your suggestions and how they would compromise accuracy for other objectives.  \n",
    "What ethical pitfalls can you imagine for what you did in this homework? Do you think that such statistical analysis is immune to unethical engagement optimization? It's quite obvious that a horrifying, decieving, or offensive headline would trigger more interaction than a descent one.\n"
   ]
  },
  {
   "attachments": {},
   "cell_type": "markdown",
   "metadata": {},
   "source": [
    "#### Alternative approaches:\n",
    "- We can use sampling methods instead of going through the entire dataset and use approximation algorithms instead of calculating the exact p-values. And instead of checking so many parameters we can identify few important ones and just check them.\n",
    "#### Ethical considerations:\n",
    "- We have only focused on CTR which can be an ethical pitfall because some headers may be sensational, misleading, or harmful, just to drive clicks.\n",
    "- Analyzing headlines without considering the context and intent of the user can lead to the selection of headlines that are irrelevant or misleading. This can damage user trust and destroy brand reputation."
   ]
  },
  {
   "attachments": {},
   "cell_type": "markdown",
   "id": "72e59cc8",
   "metadata": {},
   "source": [
    "5.2 **Discuss:** Briefly explain how you think we can handle this trade-off. In other words, what can we do to stop our pipeline from getting biased towards unethical headlines?"
   ]
  },
  {
   "attachments": {},
   "cell_type": "markdown",
   "metadata": {},
   "source": [
    "The only practical solution that reaches to my mind is to define some guidlines and regulations so that we can limit the headlines to be unethical. Maybe we should even hire some people to review the process and ensure headlines allign with ethical guidelines."
   ]
  }
 ],
 "metadata": {
  "kernelspec": {
   "display_name": "Python 3 (ipykernel)",
   "language": "python",
   "name": "python3"
  },
  "language_info": {
   "codemirror_mode": {
    "name": "ipython",
    "version": 3
   },
   "file_extension": ".py",
   "mimetype": "text/x-python",
   "name": "python",
   "nbconvert_exporter": "python",
   "pygments_lexer": "ipython3",
   "version": "3.11.3"
  }
 },
 "nbformat": 4,
 "nbformat_minor": 5
}
